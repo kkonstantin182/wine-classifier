{
 "cells": [
  {
   "cell_type": "code",
   "execution_count": 1,
   "metadata": {},
   "outputs": [],
   "source": [
    "from path_conf import get_project_root\n",
    "path_src = get_project_root() / \"src\"\n",
    "\n",
    "import sys\n",
    "sys.path.append(str(path_src.resolve()))"
   ]
  },
  {
   "cell_type": "code",
   "execution_count": 2,
   "metadata": {},
   "outputs": [],
   "source": [
    "import pandas as pd"
   ]
  },
  {
   "cell_type": "code",
   "execution_count": 3,
   "metadata": {},
   "outputs": [],
   "source": [
    "from text_processing import TextProcessing, Vectorization\n",
    "from dataset import Dataset"
   ]
  },
  {
   "cell_type": "code",
   "execution_count": 4,
   "metadata": {},
   "outputs": [],
   "source": [
    "# wine_name,type,reviewer,review,rating,price,designation,appellation,winery,variety"
   ]
  },
  {
   "cell_type": "code",
   "execution_count": 5,
   "metadata": {},
   "outputs": [],
   "source": [
    "data_path = \"E:\\OneDrive\\Documents\\GitHub\\wine-classifier\\data\\dataset1.csv\""
   ]
  },
  {
   "cell_type": "code",
   "execution_count": 6,
   "metadata": {},
   "outputs": [],
   "source": [
    "target_map = {\n",
    "    'Rosato': 0, \n",
    "    'Frizzante': 1, \n",
    "    'Bianco': 2, \n",
    "    'Rosso': 3\n",
    "}"
   ]
  },
  {
   "cell_type": "code",
   "execution_count": 13,
   "metadata": {},
   "outputs": [],
   "source": [
    "columns = {\n",
    "    'target': ['type'],\n",
    "    'text': ['review'],\n",
    "    'numerical': ['price']\n",
    "}"
   ]
  },
  {
   "cell_type": "code",
   "execution_count": 14,
   "metadata": {},
   "outputs": [
    {
     "name": "stdout",
     "output_type": "stream",
     "text": [
      "<bound method Dataset.print_shape of <dataset.Dataset object at 0x0000021ADAA4C520>>\n"
     ]
    }
   ],
   "source": [
    "ds_obj = Dataset(data_path, target_map=target_map, columns_names=columns)"
   ]
  },
  {
   "cell_type": "code",
   "execution_count": 15,
   "metadata": {},
   "outputs": [
    {
     "name": "stdout",
     "output_type": "stream",
     "text": [
      "The train shape: (12000, 3)\n",
      "The test shape: (3000, 3)\n"
     ]
    },
    {
     "data": {
      "text/plain": [
       "(       type                                             review  price\n",
       " 14109     3  Realizzato con l'85% di Sangiovese e il 15% di...   15.0\n",
       " 6673      3  Carne alla griglia e fuoco di legna contrastan...   20.0\n",
       " 11845     3  Bacche profumate, mentolo, tabacco da pipa e f...   36.0\n",
       " 2738      2  Aromi di pesche grigliate baciate con sale mar...   32.0\n",
       " 11414     3  Realizzato esclusivamente con Sangiovese, offr...   69.0\n",
       " ...     ...                                                ...    ...\n",
       " 3875      2  Elegante e di medio corpo, presenta sottili ar...   28.0\n",
       " 14654     3  Realizzato interamente con Sangiovese, questo ...   24.0\n",
       " 8081      3  Aromi discreti di mirtillo rosso, fragola essi...   24.0\n",
       " 276       0  Aromi chiassosi di fiori di ciliegio, melone e...   10.0\n",
       " 10863     3  Aromi di ciliegia cotta immersa nel liquore, t...   33.0\n",
       " \n",
       " [12000 rows x 3 columns],\n",
       "        type                                             review  price\n",
       " 6968      3  Delicati aromi di fiori blu, bacche rosse e un...   47.0\n",
       " 5190      2  Su questo bianco radioso emergono delicati sen...   31.0\n",
       " 12895     3  Profumi seducenti di tabacco da pipa dolce, sp...   75.0\n",
       " 5436      2  Profumi seducenti di mela e fiori di campo alp...   35.0\n",
       " 3058      2  Prodotto con uve da agricoltura biologica, in ...   24.0\n",
       " ...     ...                                                ...    ...\n",
       " 3271      2  Aromi di fiori gialli primaverili, cera d'api,...   61.0\n",
       " 3864      2  Aromi di pesca gialla e ananas si trasferiscon...   15.0\n",
       " 9912      3  Aromi di frutti di bosco, iris e menta schiacc...   67.0\n",
       " 11932     3  Rosa, bacche selvatiche, spezie scure, erbe tr...   70.0\n",
       " 8867      3  Aromi fitti di prugne e more imbevute di brand...   35.0\n",
       " \n",
       " [3000 rows x 3 columns])"
      ]
     },
     "execution_count": 15,
     "metadata": {},
     "output_type": "execute_result"
    }
   ],
   "source": [
    "ds_obj()\n"
   ]
  },
  {
   "cell_type": "code",
   "execution_count": 16,
   "metadata": {},
   "outputs": [
    {
     "data": {
      "text/html": [
       "<div>\n",
       "<style scoped>\n",
       "    .dataframe tbody tr th:only-of-type {\n",
       "        vertical-align: middle;\n",
       "    }\n",
       "\n",
       "    .dataframe tbody tr th {\n",
       "        vertical-align: top;\n",
       "    }\n",
       "\n",
       "    .dataframe thead th {\n",
       "        text-align: right;\n",
       "    }\n",
       "</style>\n",
       "<table border=\"1\" class=\"dataframe\">\n",
       "  <thead>\n",
       "    <tr style=\"text-align: right;\">\n",
       "      <th></th>\n",
       "      <th>type</th>\n",
       "      <th>review</th>\n",
       "      <th>price</th>\n",
       "    </tr>\n",
       "  </thead>\n",
       "  <tbody>\n",
       "    <tr>\n",
       "      <th>14109</th>\n",
       "      <td>3</td>\n",
       "      <td>Realizzato con l'85% di Sangiovese e il 15% di...</td>\n",
       "      <td>15.0</td>\n",
       "    </tr>\n",
       "    <tr>\n",
       "      <th>6673</th>\n",
       "      <td>3</td>\n",
       "      <td>Carne alla griglia e fuoco di legna contrastan...</td>\n",
       "      <td>20.0</td>\n",
       "    </tr>\n",
       "    <tr>\n",
       "      <th>11845</th>\n",
       "      <td>3</td>\n",
       "      <td>Bacche profumate, mentolo, tabacco da pipa e f...</td>\n",
       "      <td>36.0</td>\n",
       "    </tr>\n",
       "    <tr>\n",
       "      <th>2738</th>\n",
       "      <td>2</td>\n",
       "      <td>Aromi di pesche grigliate baciate con sale mar...</td>\n",
       "      <td>32.0</td>\n",
       "    </tr>\n",
       "    <tr>\n",
       "      <th>11414</th>\n",
       "      <td>3</td>\n",
       "      <td>Realizzato esclusivamente con Sangiovese, offr...</td>\n",
       "      <td>69.0</td>\n",
       "    </tr>\n",
       "    <tr>\n",
       "      <th>...</th>\n",
       "      <td>...</td>\n",
       "      <td>...</td>\n",
       "      <td>...</td>\n",
       "    </tr>\n",
       "    <tr>\n",
       "      <th>3875</th>\n",
       "      <td>2</td>\n",
       "      <td>Elegante e di medio corpo, presenta sottili ar...</td>\n",
       "      <td>28.0</td>\n",
       "    </tr>\n",
       "    <tr>\n",
       "      <th>14654</th>\n",
       "      <td>3</td>\n",
       "      <td>Realizzato interamente con Sangiovese, questo ...</td>\n",
       "      <td>24.0</td>\n",
       "    </tr>\n",
       "    <tr>\n",
       "      <th>8081</th>\n",
       "      <td>3</td>\n",
       "      <td>Aromi discreti di mirtillo rosso, fragola essi...</td>\n",
       "      <td>24.0</td>\n",
       "    </tr>\n",
       "    <tr>\n",
       "      <th>276</th>\n",
       "      <td>0</td>\n",
       "      <td>Aromi chiassosi di fiori di ciliegio, melone e...</td>\n",
       "      <td>10.0</td>\n",
       "    </tr>\n",
       "    <tr>\n",
       "      <th>10863</th>\n",
       "      <td>3</td>\n",
       "      <td>Aromi di ciliegia cotta immersa nel liquore, t...</td>\n",
       "      <td>33.0</td>\n",
       "    </tr>\n",
       "  </tbody>\n",
       "</table>\n",
       "<p>12000 rows × 3 columns</p>\n",
       "</div>"
      ],
      "text/plain": [
       "       type                                             review  price\n",
       "14109     3  Realizzato con l'85% di Sangiovese e il 15% di...   15.0\n",
       "6673      3  Carne alla griglia e fuoco di legna contrastan...   20.0\n",
       "11845     3  Bacche profumate, mentolo, tabacco da pipa e f...   36.0\n",
       "2738      2  Aromi di pesche grigliate baciate con sale mar...   32.0\n",
       "11414     3  Realizzato esclusivamente con Sangiovese, offr...   69.0\n",
       "...     ...                                                ...    ...\n",
       "3875      2  Elegante e di medio corpo, presenta sottili ar...   28.0\n",
       "14654     3  Realizzato interamente con Sangiovese, questo ...   24.0\n",
       "8081      3  Aromi discreti di mirtillo rosso, fragola essi...   24.0\n",
       "276       0  Aromi chiassosi di fiori di ciliegio, melone e...   10.0\n",
       "10863     3  Aromi di ciliegia cotta immersa nel liquore, t...   33.0\n",
       "\n",
       "[12000 rows x 3 columns]"
      ]
     },
     "execution_count": 16,
     "metadata": {},
     "output_type": "execute_result"
    }
   ],
   "source": [
    "ds_obj.train_set"
   ]
  },
  {
   "cell_type": "code",
   "execution_count": 12,
   "metadata": {},
   "outputs": [
    {
     "data": {
      "text/html": [
       "<div>\n",
       "<style scoped>\n",
       "    .dataframe tbody tr th:only-of-type {\n",
       "        vertical-align: middle;\n",
       "    }\n",
       "\n",
       "    .dataframe tbody tr th {\n",
       "        vertical-align: top;\n",
       "    }\n",
       "\n",
       "    .dataframe thead th {\n",
       "        text-align: right;\n",
       "    }\n",
       "</style>\n",
       "<table border=\"1\" class=\"dataframe\">\n",
       "  <thead>\n",
       "    <tr style=\"text-align: right;\">\n",
       "      <th></th>\n",
       "      <th>type</th>\n",
       "      <th>review</th>\n",
       "    </tr>\n",
       "  </thead>\n",
       "  <tbody>\n",
       "    <tr>\n",
       "      <th>6968</th>\n",
       "      <td>3</td>\n",
       "      <td>Delicati aromi di fiori blu, bacche rosse e un...</td>\n",
       "    </tr>\n",
       "    <tr>\n",
       "      <th>5190</th>\n",
       "      <td>2</td>\n",
       "      <td>Su questo bianco radioso emergono delicati sen...</td>\n",
       "    </tr>\n",
       "    <tr>\n",
       "      <th>12895</th>\n",
       "      <td>3</td>\n",
       "      <td>Profumi seducenti di tabacco da pipa dolce, sp...</td>\n",
       "    </tr>\n",
       "    <tr>\n",
       "      <th>5436</th>\n",
       "      <td>2</td>\n",
       "      <td>Profumi seducenti di mela e fiori di campo alp...</td>\n",
       "    </tr>\n",
       "    <tr>\n",
       "      <th>3058</th>\n",
       "      <td>2</td>\n",
       "      <td>Prodotto con uve da agricoltura biologica, in ...</td>\n",
       "    </tr>\n",
       "    <tr>\n",
       "      <th>...</th>\n",
       "      <td>...</td>\n",
       "      <td>...</td>\n",
       "    </tr>\n",
       "    <tr>\n",
       "      <th>3271</th>\n",
       "      <td>2</td>\n",
       "      <td>Aromi di fiori gialli primaverili, cera d'api,...</td>\n",
       "    </tr>\n",
       "    <tr>\n",
       "      <th>3864</th>\n",
       "      <td>2</td>\n",
       "      <td>Aromi di pesca gialla e ananas si trasferiscon...</td>\n",
       "    </tr>\n",
       "    <tr>\n",
       "      <th>9912</th>\n",
       "      <td>3</td>\n",
       "      <td>Aromi di frutti di bosco, iris e menta schiacc...</td>\n",
       "    </tr>\n",
       "    <tr>\n",
       "      <th>11932</th>\n",
       "      <td>3</td>\n",
       "      <td>Rosa, bacche selvatiche, spezie scure, erbe tr...</td>\n",
       "    </tr>\n",
       "    <tr>\n",
       "      <th>8867</th>\n",
       "      <td>3</td>\n",
       "      <td>Aromi fitti di prugne e more imbevute di brand...</td>\n",
       "    </tr>\n",
       "  </tbody>\n",
       "</table>\n",
       "<p>3000 rows × 2 columns</p>\n",
       "</div>"
      ],
      "text/plain": [
       "       type                                             review\n",
       "6968      3  Delicati aromi di fiori blu, bacche rosse e un...\n",
       "5190      2  Su questo bianco radioso emergono delicati sen...\n",
       "12895     3  Profumi seducenti di tabacco da pipa dolce, sp...\n",
       "5436      2  Profumi seducenti di mela e fiori di campo alp...\n",
       "3058      2  Prodotto con uve da agricoltura biologica, in ...\n",
       "...     ...                                                ...\n",
       "3271      2  Aromi di fiori gialli primaverili, cera d'api,...\n",
       "3864      2  Aromi di pesca gialla e ananas si trasferiscon...\n",
       "9912      3  Aromi di frutti di bosco, iris e menta schiacc...\n",
       "11932     3  Rosa, bacche selvatiche, spezie scure, erbe tr...\n",
       "8867      3  Aromi fitti di prugne e more imbevute di brand...\n",
       "\n",
       "[3000 rows x 2 columns]"
      ]
     },
     "execution_count": 12,
     "metadata": {},
     "output_type": "execute_result"
    }
   ],
   "source": [
    "ds_obj.test_set"
   ]
  },
  {
   "cell_type": "code",
   "execution_count": 17,
   "metadata": {},
   "outputs": [],
   "source": [
    "aa = pd.read_csv(data_path)"
   ]
  },
  {
   "cell_type": "code",
   "execution_count": 18,
   "metadata": {},
   "outputs": [
    {
     "data": {
      "text/plain": [
       "Index(['wine_name', 'type', 'reviewer', 'review', 'rating', 'price',\n",
       "       'designation', 'appellation', 'winery', 'variety'],\n",
       "      dtype='object')"
      ]
     },
     "execution_count": 18,
     "metadata": {},
     "output_type": "execute_result"
    }
   ],
   "source": [
    "aa.columns"
   ]
  },
  {
   "cell_type": "code",
   "execution_count": 21,
   "metadata": {},
   "outputs": [
    {
     "data": {
      "text/plain": [
       "Riserva                   702\n",
       "Brut                      207\n",
       "Extra Dry                 106\n",
       "Bussia                     80\n",
       "Cannubi                    73\n",
       "                         ... \n",
       "Monterotondo                1\n",
       "Sanct Valentin Riserva      1\n",
       "Feldmarschall               1\n",
       "Sanctissimus Riserva        1\n",
       "Masseria                    1\n",
       "Name: designation, Length: 7113, dtype: int64"
      ]
     },
     "execution_count": 21,
     "metadata": {},
     "output_type": "execute_result"
    }
   ],
   "source": [
    "aa.designation.value_counts()"
   ]
  },
  {
   "cell_type": "code",
   "execution_count": null,
   "metadata": {},
   "outputs": [],
   "source": [
    "aa.type.unique()"
   ]
  },
  {
   "attachments": {},
   "cell_type": "markdown",
   "metadata": {},
   "source": []
  },
  {
   "cell_type": "code",
   "execution_count": null,
   "metadata": {},
   "outputs": [],
   "source": [
    "tp_obj_clean = TextProcessing(is_lemmatized=True)"
   ]
  },
  {
   "cell_type": "code",
   "execution_count": null,
   "metadata": {},
   "outputs": [],
   "source": [
    "tp_obj_clean.model"
   ]
  },
  {
   "cell_type": "code",
   "execution_count": null,
   "metadata": {},
   "outputs": [],
   "source": [
    "sent = \"Un naso floreale primaverile con alito di bambino e gigli diventa poi lussuoso con frutti di bosco e crema prima che emerga una leggera pietra focaia. Il palato è uno studio di contrasti complementari con note molto agrumate di limone Meyer, clementine e infine caramelle alla fragola, accentuate da un'acidità vibrante.\""
   ]
  },
  {
   "cell_type": "code",
   "execution_count": null,
   "metadata": {},
   "outputs": [],
   "source": [
    "lst = [\"C'e\", \"come\"]"
   ]
  },
  {
   "cell_type": "code",
   "execution_count": null,
   "metadata": {},
   "outputs": [],
   "source": [
    "from sklearn.feature_extraction.text import TfidfVectorizer "
   ]
  },
  {
   "cell_type": "code",
   "execution_count": null,
   "metadata": {},
   "outputs": [],
   "source": [
    "vectorizer = TfidfVectorizer(tokenizer=tp_obj_clean.tokenize, lowercase=True)\n",
    "vectorizer.fit(lst)\n",
    "tokens_train_vec =  vectorizer.transform(lst)"
   ]
  },
  {
   "cell_type": "code",
   "execution_count": null,
   "metadata": {},
   "outputs": [],
   "source": []
  }
 ],
 "metadata": {
  "kernelspec": {
   "display_name": "nlp",
   "language": "python",
   "name": "python3"
  },
  "language_info": {
   "codemirror_mode": {
    "name": "ipython",
    "version": 3
   },
   "file_extension": ".py",
   "mimetype": "text/x-python",
   "name": "python",
   "nbconvert_exporter": "python",
   "pygments_lexer": "ipython3",
   "version": "3.10.9"
  },
  "orig_nbformat": 4
 },
 "nbformat": 4,
 "nbformat_minor": 2
}
