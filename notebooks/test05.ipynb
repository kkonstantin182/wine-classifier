{
  "cells": [
    {
      "cell_type": "markdown",
      "source": [
        "# (0) Setup"
      ],
      "metadata": {
        "id": "ygJncJ6bXpHY"
      }
    },
    {
      "cell_type": "code",
      "execution_count": 1,
      "metadata": {
        "id": "VYGfyIkFHWbQ"
      },
      "outputs": [],
      "source": [
        "# Colab\n",
        "\n",
        "# !pip install -U rapidsai\n",
        "# import cudf\n"
      ]
    },
    {
      "cell_type": "code",
      "source": [
        "!git clone https://github.com/kkonstantin182/wine-classifier.git\n",
        "%cd wine-classifier\n",
        "!pip install -r requirements.txt"
      ],
      "metadata": {
        "colab": {
          "base_uri": "https://localhost:8080/"
        },
        "id": "HHe9fKdWHt5h",
        "outputId": "096b6f17-ca0f-49db-832e-3d6e315708d6"
      },
      "execution_count": 2,
      "outputs": [
        {
          "output_type": "stream",
          "name": "stdout",
          "text": [
            "Cloning into 'wine-classifier'...\n",
            "remote: Enumerating objects: 98, done.\u001b[K\n",
            "remote: Counting objects: 100% (98/98), done.\u001b[K\n",
            "remote: Compressing objects: 100% (78/78), done.\u001b[K\n",
            "remote: Total 98 (delta 49), reused 49 (delta 15), pack-reused 0\u001b[K\n",
            "Unpacking objects: 100% (98/98), 2.32 MiB | 3.18 MiB/s, done.\n",
            "/content/wine-classifier\n",
            "Looking in indexes: https://pypi.org/simple, https://us-python.pkg.dev/colab-wheels/public/simple/\n",
            "Collecting Unidecode==1.3.6\n",
            "  Downloading Unidecode-1.3.6-py3-none-any.whl (235 kB)\n",
            "\u001b[2K     \u001b[90m━━━━━━━━━━━━━━━━━━━━━━━━━━━━━━━━━━━━━━━\u001b[0m \u001b[32m235.9/235.9 kB\u001b[0m \u001b[31m7.6 MB/s\u001b[0m eta \u001b[36m0:00:00\u001b[0m\n",
            "\u001b[?25hCollecting bornrule==0.1.3\n",
            "  Downloading bornrule-0.1.3-py3-none-any.whl (27 kB)\n",
            "Requirement already satisfied: nltk==3.8.1 in /usr/local/lib/python3.10/dist-packages (from -r requirements.txt (line 3)) (3.8.1)\n",
            "Requirement already satisfied: pandas==1.5.3 in /usr/local/lib/python3.10/dist-packages (from -r requirements.txt (line 4)) (1.5.3)\n",
            "Collecting scikit_learn==1.2.1\n",
            "  Downloading scikit_learn-1.2.1-cp310-cp310-manylinux_2_17_x86_64.manylinux2014_x86_64.whl (9.6 MB)\n",
            "\u001b[2K     \u001b[90m━━━━━━━━━━━━━━━━━━━━━━━━━━━━━━━━━━━━━━━━\u001b[0m \u001b[32m9.6/9.6 MB\u001b[0m \u001b[31m20.5 MB/s\u001b[0m eta \u001b[36m0:00:00\u001b[0m\n",
            "\u001b[?25hCollecting spacy==3.5.0\n",
            "  Downloading spacy-3.5.0-cp310-cp310-manylinux_2_17_x86_64.manylinux2014_x86_64.whl (6.6 MB)\n",
            "\u001b[2K     \u001b[90m━━━━━━━━━━━━━━━━━━━━━━━━━━━━━━━━━━━━━━━━\u001b[0m \u001b[32m6.6/6.6 MB\u001b[0m \u001b[31m15.7 MB/s\u001b[0m eta \u001b[36m0:00:00\u001b[0m\n",
            "\u001b[?25hCollecting tqdm==4.64.1\n",
            "  Downloading tqdm-4.64.1-py2.py3-none-any.whl (78 kB)\n",
            "\u001b[2K     \u001b[90m━━━━━━━━━━━━━━━━━━━━━━━━━━━━━━━━━━━━━━━━\u001b[0m \u001b[32m78.5/78.5 kB\u001b[0m \u001b[31m3.9 MB/s\u001b[0m eta \u001b[36m0:00:00\u001b[0m\n",
            "\u001b[?25hRequirement already satisfied: scipy>=1.5.4 in /usr/local/lib/python3.10/dist-packages (from bornrule==0.1.3->-r requirements.txt (line 2)) (1.10.1)\n",
            "Requirement already satisfied: numpy>=1.19.5 in /usr/local/lib/python3.10/dist-packages (from bornrule==0.1.3->-r requirements.txt (line 2)) (1.22.4)\n",
            "Requirement already satisfied: joblib in /usr/local/lib/python3.10/dist-packages (from nltk==3.8.1->-r requirements.txt (line 3)) (1.2.0)\n",
            "Requirement already satisfied: click in /usr/local/lib/python3.10/dist-packages (from nltk==3.8.1->-r requirements.txt (line 3)) (8.1.3)\n",
            "Requirement already satisfied: regex>=2021.8.3 in /usr/local/lib/python3.10/dist-packages (from nltk==3.8.1->-r requirements.txt (line 3)) (2022.10.31)\n",
            "Requirement already satisfied: python-dateutil>=2.8.1 in /usr/local/lib/python3.10/dist-packages (from pandas==1.5.3->-r requirements.txt (line 4)) (2.8.2)\n",
            "Requirement already satisfied: pytz>=2020.1 in /usr/local/lib/python3.10/dist-packages (from pandas==1.5.3->-r requirements.txt (line 4)) (2022.7.1)\n",
            "Requirement already satisfied: threadpoolctl>=2.0.0 in /usr/local/lib/python3.10/dist-packages (from scikit_learn==1.2.1->-r requirements.txt (line 5)) (3.1.0)\n",
            "Requirement already satisfied: preshed<3.1.0,>=3.0.2 in /usr/local/lib/python3.10/dist-packages (from spacy==3.5.0->-r requirements.txt (line 6)) (3.0.8)\n",
            "Requirement already satisfied: pathy>=0.10.0 in /usr/local/lib/python3.10/dist-packages (from spacy==3.5.0->-r requirements.txt (line 6)) (0.10.1)\n",
            "Requirement already satisfied: cymem<2.1.0,>=2.0.2 in /usr/local/lib/python3.10/dist-packages (from spacy==3.5.0->-r requirements.txt (line 6)) (2.0.7)\n",
            "Requirement already satisfied: pydantic!=1.8,!=1.8.1,<1.11.0,>=1.7.4 in /usr/local/lib/python3.10/dist-packages (from spacy==3.5.0->-r requirements.txt (line 6)) (1.10.7)\n",
            "Requirement already satisfied: murmurhash<1.1.0,>=0.28.0 in /usr/local/lib/python3.10/dist-packages (from spacy==3.5.0->-r requirements.txt (line 6)) (1.0.9)\n",
            "Requirement already satisfied: packaging>=20.0 in /usr/local/lib/python3.10/dist-packages (from spacy==3.5.0->-r requirements.txt (line 6)) (23.1)\n",
            "Requirement already satisfied: langcodes<4.0.0,>=3.2.0 in /usr/local/lib/python3.10/dist-packages (from spacy==3.5.0->-r requirements.txt (line 6)) (3.3.0)\n",
            "Requirement already satisfied: srsly<3.0.0,>=2.4.3 in /usr/local/lib/python3.10/dist-packages (from spacy==3.5.0->-r requirements.txt (line 6)) (2.4.6)\n",
            "Requirement already satisfied: jinja2 in /usr/local/lib/python3.10/dist-packages (from spacy==3.5.0->-r requirements.txt (line 6)) (3.1.2)\n",
            "Requirement already satisfied: setuptools in /usr/local/lib/python3.10/dist-packages (from spacy==3.5.0->-r requirements.txt (line 6)) (67.7.2)\n",
            "Requirement already satisfied: catalogue<2.1.0,>=2.0.6 in /usr/local/lib/python3.10/dist-packages (from spacy==3.5.0->-r requirements.txt (line 6)) (2.0.8)\n",
            "Requirement already satisfied: thinc<8.2.0,>=8.1.0 in /usr/local/lib/python3.10/dist-packages (from spacy==3.5.0->-r requirements.txt (line 6)) (8.1.9)\n",
            "Requirement already satisfied: wasabi<1.2.0,>=0.9.1 in /usr/local/lib/python3.10/dist-packages (from spacy==3.5.0->-r requirements.txt (line 6)) (1.1.1)\n",
            "Requirement already satisfied: typer<0.8.0,>=0.3.0 in /usr/local/lib/python3.10/dist-packages (from spacy==3.5.0->-r requirements.txt (line 6)) (0.7.0)\n",
            "Requirement already satisfied: smart-open<7.0.0,>=5.2.1 in /usr/local/lib/python3.10/dist-packages (from spacy==3.5.0->-r requirements.txt (line 6)) (6.3.0)\n",
            "Requirement already satisfied: spacy-loggers<2.0.0,>=1.0.0 in /usr/local/lib/python3.10/dist-packages (from spacy==3.5.0->-r requirements.txt (line 6)) (1.0.4)\n",
            "Requirement already satisfied: spacy-legacy<3.1.0,>=3.0.11 in /usr/local/lib/python3.10/dist-packages (from spacy==3.5.0->-r requirements.txt (line 6)) (3.0.12)\n",
            "Requirement already satisfied: requests<3.0.0,>=2.13.0 in /usr/local/lib/python3.10/dist-packages (from spacy==3.5.0->-r requirements.txt (line 6)) (2.27.1)\n",
            "Requirement already satisfied: typing-extensions>=4.2.0 in /usr/local/lib/python3.10/dist-packages (from pydantic!=1.8,!=1.8.1,<1.11.0,>=1.7.4->spacy==3.5.0->-r requirements.txt (line 6)) (4.5.0)\n",
            "Requirement already satisfied: six>=1.5 in /usr/local/lib/python3.10/dist-packages (from python-dateutil>=2.8.1->pandas==1.5.3->-r requirements.txt (line 4)) (1.16.0)\n",
            "Requirement already satisfied: charset-normalizer~=2.0.0 in /usr/local/lib/python3.10/dist-packages (from requests<3.0.0,>=2.13.0->spacy==3.5.0->-r requirements.txt (line 6)) (2.0.12)\n",
            "Requirement already satisfied: certifi>=2017.4.17 in /usr/local/lib/python3.10/dist-packages (from requests<3.0.0,>=2.13.0->spacy==3.5.0->-r requirements.txt (line 6)) (2022.12.7)\n",
            "Requirement already satisfied: urllib3<1.27,>=1.21.1 in /usr/local/lib/python3.10/dist-packages (from requests<3.0.0,>=2.13.0->spacy==3.5.0->-r requirements.txt (line 6)) (1.26.15)\n",
            "Requirement already satisfied: idna<4,>=2.5 in /usr/local/lib/python3.10/dist-packages (from requests<3.0.0,>=2.13.0->spacy==3.5.0->-r requirements.txt (line 6)) (3.4)\n",
            "Requirement already satisfied: blis<0.8.0,>=0.7.8 in /usr/local/lib/python3.10/dist-packages (from thinc<8.2.0,>=8.1.0->spacy==3.5.0->-r requirements.txt (line 6)) (0.7.9)\n",
            "Requirement already satisfied: confection<1.0.0,>=0.0.1 in /usr/local/lib/python3.10/dist-packages (from thinc<8.2.0,>=8.1.0->spacy==3.5.0->-r requirements.txt (line 6)) (0.0.4)\n",
            "Requirement already satisfied: MarkupSafe>=2.0 in /usr/local/lib/python3.10/dist-packages (from jinja2->spacy==3.5.0->-r requirements.txt (line 6)) (2.1.2)\n",
            "Installing collected packages: Unidecode, tqdm, scikit_learn, bornrule, spacy\n",
            "  Attempting uninstall: tqdm\n",
            "    Found existing installation: tqdm 4.65.0\n",
            "    Uninstalling tqdm-4.65.0:\n",
            "      Successfully uninstalled tqdm-4.65.0\n",
            "  Attempting uninstall: scikit_learn\n",
            "    Found existing installation: scikit-learn 1.2.2\n",
            "    Uninstalling scikit-learn-1.2.2:\n",
            "      Successfully uninstalled scikit-learn-1.2.2\n",
            "  Attempting uninstall: spacy\n",
            "    Found existing installation: spacy 3.5.2\n",
            "    Uninstalling spacy-3.5.2:\n",
            "      Successfully uninstalled spacy-3.5.2\n",
            "Successfully installed Unidecode-1.3.6 bornrule-0.1.3 scikit_learn-1.2.1 spacy-3.5.0 tqdm-4.64.1\n"
          ]
        }
      ]
    },
    {
      "cell_type": "code",
      "source": [
        "!python -m spacy download it_core_news_sm"
      ],
      "metadata": {
        "colab": {
          "base_uri": "https://localhost:8080/"
        },
        "id": "HcZCGQcbPMgV",
        "outputId": "08ff424b-c4e0-4d36-ba6d-7701115a1a2d"
      },
      "execution_count": 3,
      "outputs": [
        {
          "output_type": "stream",
          "name": "stdout",
          "text": [
            "2023-05-07 13:18:11.017746: I tensorflow/core/platform/cpu_feature_guard.cc:182] This TensorFlow binary is optimized to use available CPU instructions in performance-critical operations.\n",
            "To enable the following instructions: AVX2 FMA, in other operations, rebuild TensorFlow with the appropriate compiler flags.\n",
            "2023-05-07 13:18:15.363658: W tensorflow/compiler/tf2tensorrt/utils/py_utils.cc:38] TF-TRT Warning: Could not find TensorRT\n",
            "Looking in indexes: https://pypi.org/simple, https://us-python.pkg.dev/colab-wheels/public/simple/\n",
            "Collecting it-core-news-sm==3.5.0\n",
            "  Downloading https://github.com/explosion/spacy-models/releases/download/it_core_news_sm-3.5.0/it_core_news_sm-3.5.0-py3-none-any.whl (13.0 MB)\n",
            "\u001b[2K     \u001b[90m━━━━━━━━━━━━━━━━━━━━━━━━━━━━━━━━━━━━━━━━\u001b[0m \u001b[32m13.0/13.0 MB\u001b[0m \u001b[31m77.5 MB/s\u001b[0m eta \u001b[36m0:00:00\u001b[0m\n",
            "\u001b[?25hRequirement already satisfied: spacy<3.6.0,>=3.5.0 in /usr/local/lib/python3.10/dist-packages (from it-core-news-sm==3.5.0) (3.5.0)\n",
            "Requirement already satisfied: pydantic!=1.8,!=1.8.1,<1.11.0,>=1.7.4 in /usr/local/lib/python3.10/dist-packages (from spacy<3.6.0,>=3.5.0->it-core-news-sm==3.5.0) (1.10.7)\n",
            "Requirement already satisfied: requests<3.0.0,>=2.13.0 in /usr/local/lib/python3.10/dist-packages (from spacy<3.6.0,>=3.5.0->it-core-news-sm==3.5.0) (2.27.1)\n",
            "Requirement already satisfied: typer<0.8.0,>=0.3.0 in /usr/local/lib/python3.10/dist-packages (from spacy<3.6.0,>=3.5.0->it-core-news-sm==3.5.0) (0.7.0)\n",
            "Requirement already satisfied: spacy-loggers<2.0.0,>=1.0.0 in /usr/local/lib/python3.10/dist-packages (from spacy<3.6.0,>=3.5.0->it-core-news-sm==3.5.0) (1.0.4)\n",
            "Requirement already satisfied: wasabi<1.2.0,>=0.9.1 in /usr/local/lib/python3.10/dist-packages (from spacy<3.6.0,>=3.5.0->it-core-news-sm==3.5.0) (1.1.1)\n",
            "Requirement already satisfied: jinja2 in /usr/local/lib/python3.10/dist-packages (from spacy<3.6.0,>=3.5.0->it-core-news-sm==3.5.0) (3.1.2)\n",
            "Requirement already satisfied: thinc<8.2.0,>=8.1.0 in /usr/local/lib/python3.10/dist-packages (from spacy<3.6.0,>=3.5.0->it-core-news-sm==3.5.0) (8.1.9)\n",
            "Requirement already satisfied: cymem<2.1.0,>=2.0.2 in /usr/local/lib/python3.10/dist-packages (from spacy<3.6.0,>=3.5.0->it-core-news-sm==3.5.0) (2.0.7)\n",
            "Requirement already satisfied: catalogue<2.1.0,>=2.0.6 in /usr/local/lib/python3.10/dist-packages (from spacy<3.6.0,>=3.5.0->it-core-news-sm==3.5.0) (2.0.8)\n",
            "Requirement already satisfied: packaging>=20.0 in /usr/local/lib/python3.10/dist-packages (from spacy<3.6.0,>=3.5.0->it-core-news-sm==3.5.0) (23.1)\n",
            "Requirement already satisfied: spacy-legacy<3.1.0,>=3.0.11 in /usr/local/lib/python3.10/dist-packages (from spacy<3.6.0,>=3.5.0->it-core-news-sm==3.5.0) (3.0.12)\n",
            "Requirement already satisfied: srsly<3.0.0,>=2.4.3 in /usr/local/lib/python3.10/dist-packages (from spacy<3.6.0,>=3.5.0->it-core-news-sm==3.5.0) (2.4.6)\n",
            "Requirement already satisfied: preshed<3.1.0,>=3.0.2 in /usr/local/lib/python3.10/dist-packages (from spacy<3.6.0,>=3.5.0->it-core-news-sm==3.5.0) (3.0.8)\n",
            "Requirement already satisfied: setuptools in /usr/local/lib/python3.10/dist-packages (from spacy<3.6.0,>=3.5.0->it-core-news-sm==3.5.0) (67.7.2)\n",
            "Requirement already satisfied: murmurhash<1.1.0,>=0.28.0 in /usr/local/lib/python3.10/dist-packages (from spacy<3.6.0,>=3.5.0->it-core-news-sm==3.5.0) (1.0.9)\n",
            "Requirement already satisfied: numpy>=1.15.0 in /usr/local/lib/python3.10/dist-packages (from spacy<3.6.0,>=3.5.0->it-core-news-sm==3.5.0) (1.22.4)\n",
            "Requirement already satisfied: pathy>=0.10.0 in /usr/local/lib/python3.10/dist-packages (from spacy<3.6.0,>=3.5.0->it-core-news-sm==3.5.0) (0.10.1)\n",
            "Requirement already satisfied: langcodes<4.0.0,>=3.2.0 in /usr/local/lib/python3.10/dist-packages (from spacy<3.6.0,>=3.5.0->it-core-news-sm==3.5.0) (3.3.0)\n",
            "Requirement already satisfied: tqdm<5.0.0,>=4.38.0 in /usr/local/lib/python3.10/dist-packages (from spacy<3.6.0,>=3.5.0->it-core-news-sm==3.5.0) (4.64.1)\n",
            "Requirement already satisfied: smart-open<7.0.0,>=5.2.1 in /usr/local/lib/python3.10/dist-packages (from spacy<3.6.0,>=3.5.0->it-core-news-sm==3.5.0) (6.3.0)\n",
            "Requirement already satisfied: typing-extensions>=4.2.0 in /usr/local/lib/python3.10/dist-packages (from pydantic!=1.8,!=1.8.1,<1.11.0,>=1.7.4->spacy<3.6.0,>=3.5.0->it-core-news-sm==3.5.0) (4.5.0)\n",
            "Requirement already satisfied: certifi>=2017.4.17 in /usr/local/lib/python3.10/dist-packages (from requests<3.0.0,>=2.13.0->spacy<3.6.0,>=3.5.0->it-core-news-sm==3.5.0) (2022.12.7)\n",
            "Requirement already satisfied: idna<4,>=2.5 in /usr/local/lib/python3.10/dist-packages (from requests<3.0.0,>=2.13.0->spacy<3.6.0,>=3.5.0->it-core-news-sm==3.5.0) (3.4)\n",
            "Requirement already satisfied: urllib3<1.27,>=1.21.1 in /usr/local/lib/python3.10/dist-packages (from requests<3.0.0,>=2.13.0->spacy<3.6.0,>=3.5.0->it-core-news-sm==3.5.0) (1.26.15)\n",
            "Requirement already satisfied: charset-normalizer~=2.0.0 in /usr/local/lib/python3.10/dist-packages (from requests<3.0.0,>=2.13.0->spacy<3.6.0,>=3.5.0->it-core-news-sm==3.5.0) (2.0.12)\n",
            "Requirement already satisfied: confection<1.0.0,>=0.0.1 in /usr/local/lib/python3.10/dist-packages (from thinc<8.2.0,>=8.1.0->spacy<3.6.0,>=3.5.0->it-core-news-sm==3.5.0) (0.0.4)\n",
            "Requirement already satisfied: blis<0.8.0,>=0.7.8 in /usr/local/lib/python3.10/dist-packages (from thinc<8.2.0,>=8.1.0->spacy<3.6.0,>=3.5.0->it-core-news-sm==3.5.0) (0.7.9)\n",
            "Requirement already satisfied: click<9.0.0,>=7.1.1 in /usr/local/lib/python3.10/dist-packages (from typer<0.8.0,>=0.3.0->spacy<3.6.0,>=3.5.0->it-core-news-sm==3.5.0) (8.1.3)\n",
            "Requirement already satisfied: MarkupSafe>=2.0 in /usr/local/lib/python3.10/dist-packages (from jinja2->spacy<3.6.0,>=3.5.0->it-core-news-sm==3.5.0) (2.1.2)\n",
            "Installing collected packages: it-core-news-sm\n",
            "Successfully installed it-core-news-sm-3.5.0\n",
            "\u001b[38;5;2m✔ Download and installation successful\u001b[0m\n",
            "You can now load the package via spacy.load('it_core_news_sm')\n"
          ]
        }
      ]
    },
    {
      "cell_type": "code",
      "execution_count": 4,
      "metadata": {
        "id": "7SxTDw_yHWbV"
      },
      "outputs": [],
      "source": [
        "import sys\n",
        "from notebooks.path_conf import get_project_root\n",
        "path_src = get_project_root() / \"src\"\n",
        "sys.path.append(str(path_src.resolve()))\n",
        "\n",
        "from src.text_processing import TextProcessing\n",
        "from src.dataset import Dataset\n",
        "from src.constants import SEED\n"
      ]
    },
    {
      "cell_type": "code",
      "execution_count": 34,
      "metadata": {
        "id": "t9-3EoSTHWbV"
      },
      "outputs": [],
      "source": [
        "import pandas as pd\n",
        "from sklearn.feature_extraction.text import TfidfVectorizer\n",
        "from sklearn.preprocessing import OneHotEncoder, StandardScaler, MinMaxScaler\n",
        "from sklearn.compose import ColumnTransformer\n",
        "from sklearn.pipeline import Pipeline\n",
        "from sklearn.linear_model import LogisticRegression\n",
        "from sklearn.svm import SVC\n",
        "from sklearn.ensemble import RandomForestClassifier\n",
        "from sklearn.model_selection import train_test_split, RandomizedSearchCV\n",
        "# from sklearn.metrics import classification_report, confusion_matrix, accuracy_score\n",
        "from sklearn.metrics import precision_recall_fscore_support, accuracy_score\n",
        "from tqdm import tqdm\n",
        "from bornrule import BornClassifier\n",
        "import multiprocessing as mp\n",
        "from tqdm import tqdm"
      ]
    },
    {
      "cell_type": "code",
      "execution_count": 6,
      "metadata": {
        "id": "m6R9QNDyHWbX"
      },
      "outputs": [],
      "source": [
        "# data_path = get_project_root() / \"data\" / \"dataset1_proc.csv\"\n",
        "\n",
        "# TARGET_MAP = {\n",
        "#     'Rosato': 0, \n",
        "#     'Frizzante': 1, \n",
        "#     'Bianco': 2, \n",
        "#     'Rosso': 3\n",
        "# }\n",
        "\n",
        "# COLUMNS = {\n",
        "#     'target': ['type'],\n",
        "#     'text': ['review', 'winery', 'variety'],\n",
        "#     'numerical': ['price'],\n",
        "#     'categorical': ['appellation2']\n",
        "# }\n",
        "\n",
        "# ds_obj = Dataset(data_path, target_map=TARGET_MAP, columns_names=COLUMNS)\n",
        "\n",
        "# train_set, test_set = ds_obj()\n",
        "\n",
        "# tp_obj_clean = TextProcessing(is_lemmatized=True)\n",
        "\n",
        "# with mp.Pool(mp.cpu_count()) as pool:\n",
        "#     train_set['text'] = pool.map(tp_obj_clean, train_set['text'])\n",
        "\n",
        "# with mp.Pool(mp.cpu_count()) as pool:\n",
        "#     test_set['text'] = pool.map(tp_obj_clean, test_set['text'])"
      ]
    },
    {
      "cell_type": "code",
      "source": [
        "COLUMNS = {\n",
        "    'target': ['type'],\n",
        "    'text': ['review', 'winery', 'variety'],\n",
        "    'numerical': ['price'],\n",
        "    'categorical': ['appellation2']\n",
        "}"
      ],
      "metadata": {
        "id": "EnbOMrihX6XR"
      },
      "execution_count": 12,
      "outputs": []
    },
    {
      "cell_type": "code",
      "execution_count": 7,
      "metadata": {
        "id": "luHAvwRxHWbX"
      },
      "outputs": [],
      "source": [
        "tp_obj_clean = TextProcessing(is_lemmatized=True)\n"
      ]
    },
    {
      "cell_type": "code",
      "source": [
        "train_set = pd.read_csv(get_project_root() / \"data\" / \"dataset1_train_text_cleaned.csv\")\n",
        "test_set = pd.read_csv(get_project_root() / \"data\" / \"dataset1_test_text_cleaned.csv\")"
      ],
      "metadata": {
        "id": "QNRqNYJQUTJw"
      },
      "execution_count": 10,
      "outputs": []
    },
    {
      "cell_type": "code",
      "source": [
        "print(train_set.shape)\n",
        "print(test_set.shape)\n"
      ],
      "metadata": {
        "id": "iW_SVAe0XaNi",
        "outputId": "07f0bd7a-54a7-4d0e-f702-6f6ec7ebc9cd",
        "colab": {
          "base_uri": "https://localhost:8080/"
        }
      },
      "execution_count": 11,
      "outputs": [
        {
          "output_type": "stream",
          "name": "stdout",
          "text": [
            "(12000, 5)\n",
            "(3000, 5)\n"
          ]
        }
      ]
    },
    {
      "cell_type": "markdown",
      "source": [
        "# (1) Experiments"
      ],
      "metadata": {
        "id": "yrV0ShypXt1j"
      }
    },
    {
      "cell_type": "code",
      "source": [
        "X_train, X_test = train_set.drop(\"target\", axis=1), test_set.drop(\"target\", axis=1)\n",
        "y_train, y_test = train_set['target'], test_set['target']"
      ],
      "metadata": {
        "id": "T_sS3rTPYckS"
      },
      "execution_count": 35,
      "outputs": []
    },
    {
      "cell_type": "code",
      "source": [
        "# Define preprocessor for the pipeline\n",
        "# tfidf_transformer = TfidfVectorizer(tokenizer=tp_obj_clean.tokenize)\n",
        "tfidf_transformer = TfidfVectorizer()\n",
        "onehot_transformer = OneHotEncoder()\n",
        "num_transformer = MinMaxScaler()\n",
        "# num_transformer = StandardScaler()\n",
        "preprocessor = ColumnTransformer([\n",
        "    ('tfidf', tfidf_transformer, 'text'),\n",
        "    ('onehot', onehot_transformer, COLUMNS['categorical']),\n",
        "    ('num', num_transformer, COLUMNS['numerical'])\n",
        "])"
      ],
      "metadata": {
        "id": "xBDsKHMaXYh7"
      },
      "execution_count": 43,
      "outputs": []
    },
    {
      "cell_type": "code",
      "source": [
        "# Define pipelines for classifiers\n",
        "pipelines = [\n",
        "    # ('Logistic Regression', Pipeline([\n",
        "    #     ('preprocessor', preprocessor),\n",
        "    #     ('clf', LogisticRegression(random_state=SEED))\n",
        "    # ])),\n",
        "\n",
        "    # ('SVM', Pipeline([\n",
        "    #     ('preprocessor', preprocessor),\n",
        "    #     ('clf', SVC(random_state=SEED))\n",
        "    # ])),\n",
        "\n",
        "    # ('Random Forest', Pipeline([\n",
        "    #     ('preprocessor', preprocessor),\n",
        "    #     ('clf', RandomForestClassifier(random_state=SEED))\n",
        "    # ])),\n",
        "\n",
        "    ('Born Rule', Pipeline([\n",
        "        ('preprocessor', preprocessor),\n",
        "        ('clf', BornClassifier())\n",
        "    ]))\n",
        "\n",
        "\n",
        "\n",
        "\n",
        "]\n",
        "\n",
        "# Define hyperparameters for grid search\n",
        "hyperparameters = {\n",
        "    # 'Logistic Regression': {\n",
        "    #     'clf__solver': ['saga'],\n",
        "    #     'clf__penalty': ['l1', 'l2', 'elasticnet', 'none'],\n",
        "    #     'clf__C': [0.1, 1, 10],\n",
        "    # },\n",
        "\n",
        "    # 'SVM': {\n",
        "    #     'clf__C': [0.01, 0.1, 1, 10, 100],\n",
        "    #     'clf__kernel': ['linear', 'rbf']\n",
        "    # },\n",
        "    \n",
        "    # 'Random Forest': {\n",
        "    #     'clf__n_estimators': [10, 100, 1000],\n",
        "    #     'clf__max_depth': [10, 100, None],\n",
        "    #     'clf__bootstrap': [True, False],\n",
        "    #     'clf__min_samples_split': [2, 10, 100],\n",
        "    # },\n",
        "\n",
        "    'Born Rule': {\n",
        "        # 'clf__a': [0.25, 0.5, 1.0, 4.0], # Cannot be 0\n",
        "        # 'clf__b': [.0, 0.25, 0.5, 1.0, 4.0],\n",
        "        # 'clf__h': [.0, 0.25, 0.5, 1.0, 4.0],\n",
        "        'clf__a': [1.0, 4.0], # Cannot be 0\n",
        "        'clf__b': [.0, 0.25]\n",
        "    }\n",
        "}"
      ],
      "metadata": {
        "id": "gQXjY8kSX_MF"
      },
      "execution_count": 44,
      "outputs": []
    },
    {
      "cell_type": "code",
      "source": [
        "# Define table to store results\n",
        "results_table = pd.DataFrame(columns=[\n",
        "    'Classifier', \n",
        "    'Hyperparameters', \n",
        "    'Accuracy', \n",
        "    'Precision', \n",
        "    'Recall', \n",
        "    'F1-score'])\n",
        "\n",
        "# Train and evaluate models\n",
        "for clf_name, pipeline in tqdm(pipelines, desc=\"Classifiers\", total=len(pipelines)):\n",
        "    print(\"Training\", clf_name)\n",
        "    clf = pipeline.named_steps['clf']\n",
        "    hyperparams = hyperparameters[clf_name]\n",
        "    rs = RandomizedSearchCV(pipeline, hyperparams, cv=5, scoring='accuracy', n_jobs=-1)\n",
        "    rs.fit(X_train, y_train)\n",
        "    \n",
        "    # Make predictions on train data\n",
        "    y_pred = rs.predict(X_train)\n",
        "    \n",
        "    # Compute metrics\n",
        "    accuracy = accuracy_score(y_train, \n",
        "                              y_pred)\n",
        "    precision,recall,fscore,support=precision_recall_fscore_support(y_train, \n",
        "                                                                    y_pred,\n",
        "                                                                    average='macro')\n",
        "\n",
        "    # Store results in table\n",
        "    results_table = results_table.append({\n",
        "        'Classifier': clf_name,\n",
        "        'Hyperparameters': rs.best_params_,\n",
        "        'Accuracy': accuracy,\n",
        "        'Precision': precision,\n",
        "        'Recall': recall,\n",
        "        'F1-score': fscore\n",
        "    }, ignore_index=True)\n",
        "    \n",
        "    # Print progress bar\n",
        "    remaining_iters = len(pipelines) - (pipelines.index((clf_name, pipeline)) + 1)\n",
        "    print(f\"{remaining_iters} iterations left\")\n",
        "    print(\"---------------------------------------------------------\")\n",
        "\n",
        "    # print(report)\n",
        "    \n",
        "# Print final results table\n",
        "print(\"\\nResults table:\")\n",
        "print(results_table)\n",
        "results_table.to_csv('class_cls_hp_results.csv')"
      ],
      "metadata": {
        "id": "hvPIP0msYPAK",
        "outputId": "c52ce574-62a4-498f-9748-309b070c3604",
        "colab": {
          "base_uri": "https://localhost:8080/"
        }
      },
      "execution_count": 45,
      "outputs": [
        {
          "output_type": "stream",
          "name": "stderr",
          "text": [
            "\rClassifiers:   0%|          | 0/1 [00:00<?, ?it/s]"
          ]
        },
        {
          "output_type": "stream",
          "name": "stdout",
          "text": [
            "Training Born Rule\n"
          ]
        },
        {
          "output_type": "stream",
          "name": "stderr",
          "text": [
            "/usr/local/lib/python3.10/dist-packages/sklearn/model_selection/_search.py:305: UserWarning: The total space of parameters 4 is smaller than n_iter=10. Running 4 iterations. For exhaustive searches, use GridSearchCV.\n",
            "  warnings.warn(\n",
            "<ipython-input-45-8c955ad94686>:29: FutureWarning: The frame.append method is deprecated and will be removed from pandas in a future version. Use pandas.concat instead.\n",
            "  results_table = results_table.append({\n",
            "Classifiers: 100%|██████████| 1/1 [00:10<00:00, 10.63s/it]"
          ]
        },
        {
          "output_type": "stream",
          "name": "stdout",
          "text": [
            "0 iterations left\n",
            "---------------------------------------------------------\n",
            "\n",
            "Results table:\n",
            "  Classifier                  Hyperparameters  Accuracy  Precision   Recall  \\\n",
            "0  Born Rule  {'clf__b': 0.25, 'clf__a': 1.0}   0.93125   0.962923  0.79859   \n",
            "\n",
            "   F1-score  \n",
            "0   0.85236  \n"
          ]
        },
        {
          "output_type": "stream",
          "name": "stderr",
          "text": [
            "\n"
          ]
        }
      ]
    },
    {
      "cell_type": "code",
      "source": [
        "results_table "
      ],
      "metadata": {
        "id": "ksDU-mA3YnuR",
        "outputId": "a0695860-afab-418f-d9e4-a7b88a67afbc",
        "colab": {
          "base_uri": "https://localhost:8080/",
          "height": 80
        }
      },
      "execution_count": 24,
      "outputs": [
        {
          "output_type": "execute_result",
          "data": {
            "text/plain": [
              "            Classifier                       Hyperparameters  Accuracy  \\\n",
              "0  Logistic Regression  {'clf__solver': 'saga', 'clf__C': 1}  0.981917   \n",
              "\n",
              "   Precision    Recall  F1-score  \n",
              "0   0.981469  0.926994  0.950991  "
            ],
            "text/html": [
              "\n",
              "  <div id=\"df-c9e04dd4-8727-4381-a748-0078ce9b2b65\">\n",
              "    <div class=\"colab-df-container\">\n",
              "      <div>\n",
              "<style scoped>\n",
              "    .dataframe tbody tr th:only-of-type {\n",
              "        vertical-align: middle;\n",
              "    }\n",
              "\n",
              "    .dataframe tbody tr th {\n",
              "        vertical-align: top;\n",
              "    }\n",
              "\n",
              "    .dataframe thead th {\n",
              "        text-align: right;\n",
              "    }\n",
              "</style>\n",
              "<table border=\"1\" class=\"dataframe\">\n",
              "  <thead>\n",
              "    <tr style=\"text-align: right;\">\n",
              "      <th></th>\n",
              "      <th>Classifier</th>\n",
              "      <th>Hyperparameters</th>\n",
              "      <th>Accuracy</th>\n",
              "      <th>Precision</th>\n",
              "      <th>Recall</th>\n",
              "      <th>F1-score</th>\n",
              "    </tr>\n",
              "  </thead>\n",
              "  <tbody>\n",
              "    <tr>\n",
              "      <th>0</th>\n",
              "      <td>Logistic Regression</td>\n",
              "      <td>{'clf__solver': 'saga', 'clf__C': 1}</td>\n",
              "      <td>0.981917</td>\n",
              "      <td>0.981469</td>\n",
              "      <td>0.926994</td>\n",
              "      <td>0.950991</td>\n",
              "    </tr>\n",
              "  </tbody>\n",
              "</table>\n",
              "</div>\n",
              "      <button class=\"colab-df-convert\" onclick=\"convertToInteractive('df-c9e04dd4-8727-4381-a748-0078ce9b2b65')\"\n",
              "              title=\"Convert this dataframe to an interactive table.\"\n",
              "              style=\"display:none;\">\n",
              "        \n",
              "  <svg xmlns=\"http://www.w3.org/2000/svg\" height=\"24px\"viewBox=\"0 0 24 24\"\n",
              "       width=\"24px\">\n",
              "    <path d=\"M0 0h24v24H0V0z\" fill=\"none\"/>\n",
              "    <path d=\"M18.56 5.44l.94 2.06.94-2.06 2.06-.94-2.06-.94-.94-2.06-.94 2.06-2.06.94zm-11 1L8.5 8.5l.94-2.06 2.06-.94-2.06-.94L8.5 2.5l-.94 2.06-2.06.94zm10 10l.94 2.06.94-2.06 2.06-.94-2.06-.94-.94-2.06-.94 2.06-2.06.94z\"/><path d=\"M17.41 7.96l-1.37-1.37c-.4-.4-.92-.59-1.43-.59-.52 0-1.04.2-1.43.59L10.3 9.45l-7.72 7.72c-.78.78-.78 2.05 0 2.83L4 21.41c.39.39.9.59 1.41.59.51 0 1.02-.2 1.41-.59l7.78-7.78 2.81-2.81c.8-.78.8-2.07 0-2.86zM5.41 20L4 18.59l7.72-7.72 1.47 1.35L5.41 20z\"/>\n",
              "  </svg>\n",
              "      </button>\n",
              "      \n",
              "  <style>\n",
              "    .colab-df-container {\n",
              "      display:flex;\n",
              "      flex-wrap:wrap;\n",
              "      gap: 12px;\n",
              "    }\n",
              "\n",
              "    .colab-df-convert {\n",
              "      background-color: #E8F0FE;\n",
              "      border: none;\n",
              "      border-radius: 50%;\n",
              "      cursor: pointer;\n",
              "      display: none;\n",
              "      fill: #1967D2;\n",
              "      height: 32px;\n",
              "      padding: 0 0 0 0;\n",
              "      width: 32px;\n",
              "    }\n",
              "\n",
              "    .colab-df-convert:hover {\n",
              "      background-color: #E2EBFA;\n",
              "      box-shadow: 0px 1px 2px rgba(60, 64, 67, 0.3), 0px 1px 3px 1px rgba(60, 64, 67, 0.15);\n",
              "      fill: #174EA6;\n",
              "    }\n",
              "\n",
              "    [theme=dark] .colab-df-convert {\n",
              "      background-color: #3B4455;\n",
              "      fill: #D2E3FC;\n",
              "    }\n",
              "\n",
              "    [theme=dark] .colab-df-convert:hover {\n",
              "      background-color: #434B5C;\n",
              "      box-shadow: 0px 1px 3px 1px rgba(0, 0, 0, 0.15);\n",
              "      filter: drop-shadow(0px 1px 2px rgba(0, 0, 0, 0.3));\n",
              "      fill: #FFFFFF;\n",
              "    }\n",
              "  </style>\n",
              "\n",
              "      <script>\n",
              "        const buttonEl =\n",
              "          document.querySelector('#df-c9e04dd4-8727-4381-a748-0078ce9b2b65 button.colab-df-convert');\n",
              "        buttonEl.style.display =\n",
              "          google.colab.kernel.accessAllowed ? 'block' : 'none';\n",
              "\n",
              "        async function convertToInteractive(key) {\n",
              "          const element = document.querySelector('#df-c9e04dd4-8727-4381-a748-0078ce9b2b65');\n",
              "          const dataTable =\n",
              "            await google.colab.kernel.invokeFunction('convertToInteractive',\n",
              "                                                     [key], {});\n",
              "          if (!dataTable) return;\n",
              "\n",
              "          const docLinkHtml = 'Like what you see? Visit the ' +\n",
              "            '<a target=\"_blank\" href=https://colab.research.google.com/notebooks/data_table.ipynb>data table notebook</a>'\n",
              "            + ' to learn more about interactive tables.';\n",
              "          element.innerHTML = '';\n",
              "          dataTable['output_type'] = 'display_data';\n",
              "          await google.colab.output.renderOutput(dataTable, element);\n",
              "          const docLink = document.createElement('div');\n",
              "          docLink.innerHTML = docLinkHtml;\n",
              "          element.appendChild(docLink);\n",
              "        }\n",
              "      </script>\n",
              "    </div>\n",
              "  </div>\n",
              "  "
            ]
          },
          "metadata": {},
          "execution_count": 24
        }
      ]
    },
    {
      "cell_type": "code",
      "source": [],
      "metadata": {
        "id": "M6i-gzMQcjg_"
      },
      "execution_count": null,
      "outputs": []
    }
  ],
  "metadata": {
    "language_info": {
      "name": "python"
    },
    "orig_nbformat": 4,
    "colab": {
      "provenance": []
    },
    "kernelspec": {
      "name": "python3",
      "display_name": "Python 3"
    },
    "gpuClass": "standard"
  },
  "nbformat": 4,
  "nbformat_minor": 0
}