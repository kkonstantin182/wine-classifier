{
 "cells": [
  {
   "cell_type": "code",
   "execution_count": null,
   "metadata": {},
   "outputs": [],
   "source": [
    "# Colab\n",
    "\n",
    "# !pip install -U rapidsai\n",
    "import cudf\n"
   ]
  },
  {
   "cell_type": "code",
   "execution_count": null,
   "metadata": {},
   "outputs": [],
   "source": [
    "import sys\n",
    "from path_conf import get_project_root\n",
    "path_src = get_project_root() / \"src\"\n",
    "sys.path.append(str(path_src.resolve()))\n",
    "\n",
    "from text_processing import TextProcessing\n",
    "from dataset import Dataset\n",
    "from constants import SEED\n"
   ]
  },
  {
   "cell_type": "code",
   "execution_count": null,
   "metadata": {},
   "outputs": [],
   "source": [
    "import pandas as pd\n",
    "from sklearn.feature_extraction.text import TfidfVectorizer\n",
    "from sklearn.preprocessing import OneHotEncoder, StandardScaler\n",
    "from sklearn.compose import ColumnTransformer\n",
    "from sklearn.pipeline import Pipeline\n",
    "from sklearn.linear_model import LogisticRegression\n",
    "from sklearn.svm import SVC\n",
    "from sklearn.ensemble import RandomForestClassifier\n",
    "from sklearn.model_selection import train_test_split, RandomizedSearchCV\n",
    "from sklearn.metrics import classification_report, confusion_matrix, accuracy_score\n",
    "from tqdm import tqdm\n",
    "from bornrule import BornClassifier\n",
    "import multiprocessing as mp\n",
    "\n"
   ]
  },
  {
   "cell_type": "code",
   "execution_count": null,
   "metadata": {},
   "outputs": [],
   "source": [
    "from tqdm import tqdm"
   ]
  },
  {
   "cell_type": "code",
   "execution_count": null,
   "metadata": {},
   "outputs": [],
   "source": [
    "data_path = get_project_root() / \"data\" / \"dataset1_proc.csv\""
   ]
  },
  {
   "cell_type": "code",
   "execution_count": null,
   "metadata": {},
   "outputs": [],
   "source": [
    "TARGET_MAP = {\n",
    "    'Rosato': 0, \n",
    "    'Frizzante': 1, \n",
    "    'Bianco': 2, \n",
    "    'Rosso': 3\n",
    "}\n",
    "\n",
    "COLUMNS = {\n",
    "    'target': ['type'],\n",
    "    'text': ['review', 'winery', 'variety'],\n",
    "    'numerical': ['price'],\n",
    "    'categorical': ['appellation2']\n",
    "}"
   ]
  },
  {
   "cell_type": "code",
   "execution_count": null,
   "metadata": {},
   "outputs": [],
   "source": [
    "ds_obj = Dataset(data_path, target_map=TARGET_MAP, columns_names=COLUMNS)"
   ]
  },
  {
   "cell_type": "code",
   "execution_count": null,
   "metadata": {},
   "outputs": [],
   "source": [
    "train_set, test_set = ds_obj()"
   ]
  },
  {
   "cell_type": "code",
   "execution_count": null,
   "metadata": {},
   "outputs": [],
   "source": [
    "train_set.head(1)"
   ]
  },
  {
   "cell_type": "code",
   "execution_count": null,
   "metadata": {},
   "outputs": [],
   "source": [
    "tp_obj_clean = TextProcessing(is_lemmatized=True)"
   ]
  },
  {
   "cell_type": "code",
   "execution_count": null,
   "metadata": {},
   "outputs": [],
   "source": [
    "# with mp.Pool(mp.cpu_count()) as pool:\n",
    "#     train_set['text'] = pool.map(tp_obj_clean, train_set['text'])\n",
    "\n",
    "# with mp.Pool(mp.cpu_count()) as pool:\n",
    "#     test_set['text'] = pool.map(tp_obj_clean, test_set['text'])"
   ]
  },
  {
   "cell_type": "code",
   "execution_count": null,
   "metadata": {},
   "outputs": [],
   "source": [
    "with mp.Pool(mp.cpu_count()) as pool:\n",
    "    train_set['text'] = list(tqdm(pool.imap(tp_obj_clean, train_set['text']), total=len(train_set)))\n",
    "\n",
    "with mp.Pool(mp.cpu_count()) as pool:\n",
    "    test_set['text'] = list(tqdm(pool.imap(tp_obj_clean, test_set['text']), total=len(test_set)))"
   ]
  },
  {
   "cell_type": "code",
   "execution_count": null,
   "metadata": {},
   "outputs": [],
   "source": []
  }
 ],
 "metadata": {
  "kernelspec": {
   "display_name": "nlp",
   "language": "python",
   "name": "python3"
  },
  "language_info": {
   "codemirror_mode": {
    "name": "ipython",
    "version": 3
   },
   "file_extension": ".py",
   "mimetype": "text/x-python",
   "name": "python",
   "nbconvert_exporter": "python",
   "pygments_lexer": "ipython3",
   "version": "3.10.9"
  },
  "orig_nbformat": 4
 },
 "nbformat": 4,
 "nbformat_minor": 2
}
